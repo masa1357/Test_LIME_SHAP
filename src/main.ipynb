{
 "cells": [
  {
   "cell_type": "markdown",
   "metadata": {},
   "source": [
    "## LIME と SHAP によるデータセット分析"
   ]
  },
  {
   "cell_type": "code",
   "execution_count": null,
   "metadata": {},
   "outputs": [],
   "source": [
    "import pandas as pd\n",
    "import python.data_manager as dm\n",
    "import importlib"
   ]
  },
  {
   "cell_type": "code",
   "execution_count": null,
   "metadata": {},
   "outputs": [],
   "source": [
    "importlib.reload(dm)"
   ]
  },
  {
   "cell_type": "code",
   "execution_count": null,
   "metadata": {},
   "outputs": [],
   "source": [
    "left_df  = dm.read_folder(\"../data/Reflection/\")\n",
    "right_df = dm.read_folder(\"../data/Grade/\")"
   ]
  },
  {
   "cell_type": "code",
   "execution_count": null,
   "metadata": {},
   "outputs": [],
   "source": [
    "left_df.head()"
   ]
  },
  {
   "cell_type": "code",
   "execution_count": null,
   "metadata": {},
   "outputs": [],
   "source": [
    "key = \"userid\"\n",
    "df = pd.merge(left=left_df, right=right_df, on=key)"
   ]
  },
  {
   "cell_type": "code",
   "execution_count": null,
   "metadata": {},
   "outputs": [],
   "source": [
    "df.head()"
   ]
  },
  {
   "cell_type": "code",
   "execution_count": null,
   "metadata": {},
   "outputs": [],
   "source": [
    "LABEL_MAPPING = {\"A\": 0, \"B\": 1, \"C\": 2, \"D\": 3, \"F\": 4}\n",
    "df[\"label\"] = df[\"grade\"].map(LABEL_MAPPING).astype(int)"
   ]
  },
  {
   "cell_type": "code",
   "execution_count": null,
   "metadata": {},
   "outputs": [],
   "source": [
    "df, dump = dm.data_clean(df)\n",
    "dump.head()"
   ]
  },
  {
   "cell_type": "code",
   "execution_count": null,
   "metadata": {},
   "outputs": [],
   "source": [
    "train, valid, test = dm.sprit_data_for_user(df, key=key, text=\"answer_content\", label=\"grade\", split_rate=[0.8, 0.1, 0.1])"
   ]
  },
  {
   "cell_type": "code",
   "execution_count": null,
   "metadata": {},
   "outputs": [],
   "source": [
    "print(f\"\"\"\n",
    "      columns =\n",
    "      train : {train.columns}\n",
    "      valid : {valid.columns}\n",
    "      test  : {test.columns}\n",
    "      \"\"\"\n",
    ")"
   ]
  },
  {
   "cell_type": "code",
   "execution_count": null,
   "metadata": {},
   "outputs": [],
   "source": [
    "print(f\"\"\"\n",
    "      rows =\n",
    "      train : {len(train)}\\t- {len(train) / (len(train) + len(valid) + len(test))} %\n",
    "      valid : {len(valid)}\\t- {len(valid) / (len(train) + len(valid) + len(test))} %\n",
    "      test  : {len(test)}\\t- {len(test ) / (len(train) + len(valid) + len(test))} %\n",
    "      \"\"\"\n",
    ")"
   ]
  },
  {
   "cell_type": "code",
   "execution_count": null,
   "metadata": {},
   "outputs": [],
   "source": [
    "train.head()"
   ]
  },
  {
   "cell_type": "code",
   "execution_count": null,
   "metadata": {},
   "outputs": [],
   "source": [
    "text = \"answer_content\"\n",
    "label = \"label\"\n",
    "categories = sorted(train[\"grade\"].unique().tolist())\n",
    "categories"
   ]
  },
  {
   "cell_type": "code",
   "execution_count": null,
   "metadata": {},
   "outputs": [],
   "source": [
    "# dfの型を確認\n",
    "df.info()"
   ]
  },
  {
   "cell_type": "markdown",
   "metadata": {},
   "source": [
    "### Vectolizer\n"
   ]
  },
  {
   "cell_type": "code",
   "execution_count": null,
   "metadata": {},
   "outputs": [],
   "source": [
    "import MeCab\n",
    "import re\n",
    "\n",
    "tagger = MeCab.Tagger(\"-Owakati\")\n",
    "\n",
    "\n",
    "def make_wakati(sentence):\n",
    "    sentence = tagger.parse(sentence)\n",
    "    sentence = re.sub(r\"[0-9０-９a-zA-Zａ-ｚＡ-Ｚ]+\", \" \", sentence)\n",
    "    sentence = re.sub(\n",
    "        r\"[\\．_－―─！＠＃＄％＾＆\\-‐|\\\\＊\\“（）＿■×+α※÷⇒—●★☆〇◎◆▼◇△□(：〜～＋=＝)／*&^%$#@!~`){}［］…\\[\\]\\\"\\'\\”\\’:;<>?＜＞〔〕〈〉？、。・,\\./『』【】「」→←○《》≪≫\\n\\u3000]+\",\n",
    "        \"\",\n",
    "        sentence,\n",
    "    )\n",
    "    wakati = sentence.split(\" \")\n",
    "    wakati = list(filter((\"\").__ne__, wakati))\n",
    "    return wakati"
   ]
  },
  {
   "cell_type": "code",
   "execution_count": null,
   "metadata": {},
   "outputs": [],
   "source": [
    "from gensim.models import Word2Vec\n",
    "import numpy as np\n",
    "import logging\n",
    "from tqdm import tqdm\n",
    "\n",
    "\n",
    "# word2vec parameters\n",
    "num_features = 200\n",
    "min_word_count = 5\n",
    "num_workers = 40\n",
    "context = 10\n",
    "downsampling = 1e-3\n",
    "model_name = \"word2vec_testcase.model\"\n",
    "\n",
    "# コーパス読み込み\n",
    "corpus = []\n",
    "for doc in tqdm(df[\"answer_content\"]):\n",
    "    corpus.append(make_wakati(doc))\n",
    "\n",
    "\n",
    "# word2vecモデルの作成＆モデルの保存\n",
    "print(\"cleating word2vec model ...\")\n",
    "logging.basicConfig(\n",
    "    format=\"%(asctime)s : %(levelname)s : %(message)s\", level=logging.INFO\n",
    ")\n",
    "model = Word2Vec(\n",
    "    corpus,\n",
    "    workers=num_workers,\n",
    "    hs=1,\n",
    "    sg=1,\n",
    "    negative=10,\n",
    "    epochs=25,\n",
    "    vector_size=num_features,\n",
    "    min_count=min_word_count,\n",
    "    window=context,\n",
    "    sample=downsampling,\n",
    "    seed=1,\n",
    ")\n",
    "model.save(model_name)\n",
    "print(\"Done.\")\n",
    "\n",
    "# word2vecモデルの読み込み\n",
    "# model = Word2Vec.load(model_name)\n",
    "\n",
    "# test\n",
    "# print(model.wv.most_similar(\"フーリエ\"))"
   ]
  },
  {
   "cell_type": "code",
   "execution_count": null,
   "metadata": {},
   "outputs": [],
   "source": [
    "model.wv.vectors.shape"
   ]
  },
  {
   "cell_type": "code",
   "execution_count": null,
   "metadata": {},
   "outputs": [],
   "source": [
    "model.wv.most_similar(\"システム\")"
   ]
  },
  {
   "cell_type": "code",
   "execution_count": null,
   "metadata": {},
   "outputs": [],
   "source": [
    "wakati = [\n",
    "    \"期末\",\n",
    "    \"試験\",\n",
    "    \"が\",\n",
    "    \"終わり\",\n",
    "    \"情報\",\n",
    "    \"科学\",\n",
    "    \"の\",\n",
    "    \"履修\",\n",
    "    \"を\",\n",
    "    \"完了\",\n",
    "    \"でき\",\n",
    "    \"た\",\n",
    "]\n",
    "for word in wakati:\n",
    "    if word in model.wv:\n",
    "        print(f\"{word} はモデルに存在します。\")\n",
    "    else:\n",
    "        print(f\"{word} はモデルに存在しません。\")"
   ]
  },
  {
   "cell_type": "code",
   "execution_count": null,
   "metadata": {},
   "outputs": [],
   "source": [
    "def wordvec2docvec(sentence):\n",
    "    # 文章ベクトルの初期値（0ベクトルを初期値とする）\n",
    "    docvecs = np.zeros(num_features, dtype=\"float32\")\n",
    "\n",
    "    # 文章に現れる単語のうち、モデルに存在しない単語をカウントする\n",
    "    denomenator = len(sentence)\n",
    "\n",
    "    # 文章内の各単語ベクトルを足し合わせる\n",
    "    for word in sentence:\n",
    "        try:\n",
    "            temp = model.wv[word]\n",
    "            # docvecs += temp\n",
    "        except:\n",
    "            denomenator -= 1\n",
    "            # print(f\"{word}はモデルに存在しません。\")\n",
    "            continue\n",
    "        docvecs += temp\n",
    "\n",
    "    # 文章に現れる単語のうち、モデルに存在した単語の数で割る\n",
    "    if denomenator > 0:\n",
    "        docvecs = docvecs / denomenator\n",
    "\n",
    "    return docvecs"
   ]
  },
  {
   "cell_type": "code",
   "execution_count": null,
   "metadata": {},
   "outputs": [],
   "source": [
    "from sklearn.model_selection import train_test_split\n",
    "\n",
    "print(len(df[text]))\n",
    "X, Y = [], []\n",
    "for doc, category in tqdm(zip(df[text], df[\"grade\"])):\n",
    "    wakati = make_wakati(doc)\n",
    "    docvec = wordvec2docvec(wakati)\n",
    "    X.append(list(docvec))\n",
    "    Y.append(LABEL_MAPPING[category])\n",
    "data_X = pd.DataFrame(X, columns=[\"X\" + str(i + 1) for i in range(num_features)])\n",
    "data_Y = pd.DataFrame(Y, columns=[\"category_id\"])\n",
    "\n",
    "train_x, test_x, train_y, test_y = train_test_split(data_X, data_Y, train_size=0.7)"
   ]
  },
  {
   "cell_type": "code",
   "execution_count": null,
   "metadata": {},
   "outputs": [],
   "source": [
    "data_X.head()"
   ]
  },
  {
   "cell_type": "code",
   "execution_count": null,
   "metadata": {},
   "outputs": [],
   "source": [
    "from sklearn.decomposition import PCA\n",
    "from sklearn.manifold import TSNE\n",
    "import plotly.express as px"
   ]
  },
  {
   "cell_type": "code",
   "execution_count": null,
   "metadata": {},
   "outputs": [],
   "source": [
    "# PCAのインスタンスを作成し、2次元に削減する設定\n",
    "pca = PCA(n_components=2)\n",
    "X_pca = pca.fit_transform(data_X)\n",
    "\n",
    "# PCAの結果をDataFrameに変換\n",
    "pca_df = pd.DataFrame(X_pca, columns=[\"Principal Component 1\", \"Principal Component 2\"])\n",
    "pca_df[\"Category\"] = data_Y[\"category_id\"].values  # カテゴリーラベルを追加"
   ]
  },
  {
   "cell_type": "code",
   "execution_count": null,
   "metadata": {},
   "outputs": [],
   "source": [
    "fig = px.scatter(\n",
    "    pca_df,\n",
    "    x=\"Principal Component 1\",\n",
    "    y=\"Principal Component 2\",\n",
    "    color=pca_df[\"Category\"].astype(str),\n",
    "    labels={\"color\": \"Category\"},\n",
    "    title=\"PCA Visualization of Document Vectors\",\n",
    "    width=800,\n",
    "    height=800,\n",
    ")\n",
    "fig.update_traces(\n",
    "    marker=dict(size=5, opacity=0.8, line=dict(width=0.5, color=\"DarkSlateGrey\"))\n",
    ")\n",
    "fig.show()"
   ]
  },
  {
   "cell_type": "code",
   "execution_count": null,
   "metadata": {},
   "outputs": [],
   "source": [
    "# # t-SNEのパラメータ設定\n",
    "# tsne = TSNE(n_components=2, random_state=42)  # 2次元に削減\n",
    "# X_tsne = tsne.fit_transform(data_X)\n",
    "\n",
    "# # t-SNEの結果をDataFrameに変換\n",
    "# tsne_df = pd.DataFrame(X_tsne, columns=[\"Dim1\", \"Dim2\"])\n",
    "# tsne_df[\"Category\"] = data_Y[\"category_id\"].values  # カテゴリーラベルを追加"
   ]
  },
  {
   "cell_type": "code",
   "execution_count": null,
   "metadata": {},
   "outputs": [],
   "source": [
    "# fig = px.scatter(\n",
    "#     tsne_df,\n",
    "#     x=\"Dim1\",\n",
    "#     y=\"Dim2\",\n",
    "#     color=tsne_df[\"Category\"].astype(str),\n",
    "#     labels={\"color\": \"Category\"},\n",
    "#     title=\"t-SNE Visualization of Document Vectors\",\n",
    "#     width=800,\n",
    "#     height=800,\n",
    "# )\n",
    "# fig.update_traces(\n",
    "#     marker=dict(size=5, opacity=0.8, line=dict(width=0.5, color=\"DarkSlateGrey\"))\n",
    "# )\n",
    "# fig.show()"
   ]
  },
  {
   "cell_type": "markdown",
   "metadata": {},
   "source": [
    "### Classifier"
   ]
  },
  {
   "cell_type": "code",
   "execution_count": null,
   "metadata": {},
   "outputs": [],
   "source": [
    "import xgboost as xgb\n",
    "from sklearn.metrics import classification_report\n",
    "\n",
    "print(\"Fitting XGboost model ...\")\n",
    "xgb_model = xgb.XGBClassifier()\n",
    "xgb_model.fit(train_x, train_y)\n",
    "print(\"Done.\")\n",
    "\n",
    "# 予測\n",
    "pred = xgb_model.predict(test_x)\n",
    "print(classification_report(pred, test_y[\"category_id\"], target_names=categories))"
   ]
  },
  {
   "cell_type": "code",
   "execution_count": null,
   "metadata": {},
   "outputs": [],
   "source": [
    "import lightgbm as lgbm\n",
    "\n",
    "print(\"Fitting LightGBM model ...\")\n",
    "lgbm_model = lgbm.LGBMClassifier()\n",
    "lgbm_model.fit(train_x, train_y)\n",
    "print(\"Done.\")\n",
    "\n",
    "# 予測\n",
    "pred = lgbm_model.predict(test_x)\n",
    "print(classification_report(pred, test_y[\"category_id\"], target_names=categories))"
   ]
  },
  {
   "cell_type": "code",
   "execution_count": null,
   "metadata": {},
   "outputs": [],
   "source": [
    "from sklearn.ensemble import RandomForestClassifier\n",
    "\n",
    "rfc = RandomForestClassifier()\n",
    "rfc.fit(train_x, train_y)\n",
    "pred = rfc.predict(test_x)\n",
    "print(classification_report(pred, test_y[\"category_id\"], target_names=categories))\n"
   ]
  },
  {
   "cell_type": "code",
   "execution_count": null,
   "metadata": {},
   "outputs": [],
   "source": [
    "from sklearn.feature_extraction.text import TfidfVectorizer\n",
    "\n",
    "corpus = df[text]\n",
    "tfidf_vectorizer = TfidfVectorizer(analyzer=make_wakati)\n",
    "tfidfs = tfidf_vectorizer.fit_transform(corpus)\n",
    "print(tfidfs.shape)\n",
    "# (7376, 79673)\n",
    "\n",
    "tfidf_data_X = pd.DataFrame(\n",
    "    tfidfs.toarray(), columns=[\"X\" + str(i) for i in range(tfidfs.shape[1])]\n",
    ")\n",
    "train_x, test_x, train_y, test_y = train_test_split(data_X, data_Y, train_size=0.7)\n",
    "lgbm_model = lgbm.LGBMClassifier()\n",
    "lgbm_model.fit(train_x, train_y)\n",
    "pred = lgbm_model.predict(test_x)\n",
    "print(classification_report(pred, test_y[\"category_id\"], target_names=categories))"
   ]
  },
  {
   "cell_type": "markdown",
   "metadata": {},
   "source": [
    "### PALM for LightGBM"
   ]
  },
  {
   "cell_type": "code",
   "execution_count": null,
   "metadata": {},
   "outputs": [],
   "source": [
    "import lightgbm as lgbm\n",
    "from sklearn.metrics import classification_report\n",
    "import shap\n",
    "from sklearn.inspection import permutation_importance\n",
    "import matplotlib.pyplot as plt"
   ]
  },
  {
   "cell_type": "code",
   "execution_count": null,
   "metadata": {},
   "outputs": [],
   "source": [
    "test_y"
   ]
  },
  {
   "cell_type": "code",
   "execution_count": null,
   "metadata": {},
   "outputs": [],
   "source": [
    "# train_y = train_y.values.ravel()\n",
    "\n",
    "\n",
    "train_y = train_y.ravel()\n",
    "\n",
    "\n",
    "print(\"Fitting LightGBM model ...\")\n",
    "lgbm_model = lgbm.LGBMClassifier()\n",
    "lgbm_model.fit(train_x, train_y)\n",
    "print(\"Done.\")\n",
    "\n",
    "# 予測\n",
    "pred = lgbm_model.predict(test_x)\n"
   ]
  },
  {
   "cell_type": "code",
   "execution_count": null,
   "metadata": {},
   "outputs": [],
   "source": [
    "# カテゴリ名のリストを作成\n",
    "# categories = list(map(str, test_y[\"category_id\"].unique()))\n",
    "\n",
    "# 分類レポートの表示\n",
    "print(classification_report(test_y[\"category_id\"], pred, target_names=categories))\n",
    "\n",
    "# SHAPの初期化\n",
    "shap.initjs()\n",
    "\n",
    "# SHAP値の計算\n",
    "explainer = shap.TreeExplainer(lgbm_model)\n",
    "shap_values = explainer.shap_values(test_x)"
   ]
  },
  {
   "cell_type": "code",
   "execution_count": null,
   "metadata": {},
   "outputs": [],
   "source": [
    "# SHAP値のサマリープロット（マルチクラスの場合は全クラスのSHAP値をプロット）\n",
    "# for i in range(len(shap_values)):\n",
    "#     print(f\"Summary plot for class {categories[i]}\")\n",
    "shap.summary_plot(shap_values, test_x, plot_type=\"bar\", feature_names=test_x.columns)"
   ]
  },
  {
   "cell_type": "code",
   "execution_count": null,
   "metadata": {},
   "outputs": [],
   "source": [
    "# shap.plots.force(explainer.expected_value[0], shap_values[..., 0])"
   ]
  },
  {
   "cell_type": "code",
   "execution_count": null,
   "metadata": {},
   "outputs": [],
   "source": [
    "# 特定の予測のSHAP値のプロット（例えばクラス0について、0番目のテストデータ）\n",
    "# shap.force_plot(\n",
    "#     explainer.expected_value,\n",
    "#     shap_values[0, :],\n",
    "#     test_x.iloc[0, :],\n",
    "#     matplotlib=True,\n",
    "# )"
   ]
  },
  {
   "cell_type": "code",
   "execution_count": null,
   "metadata": {},
   "outputs": [],
   "source": [
    "shap.force_plot(explainer.expected_value, shap_values, X)"
   ]
  },
  {
   "cell_type": "code",
   "execution_count": null,
   "metadata": {},
   "outputs": [],
   "source": [
    "# PALM（Permutation Analysis of Linear Models）\n",
    "print(\"Computing Permutation Importances ...\")\n",
    "result = permutation_importance(\n",
    "    lgbm_model, test_x, test_y[\"category_id\"], n_repeats=10, random_state=42\n",
    ")\n",
    "\n",
    "# 特徴の重要度の表示\n",
    "sorted_idx = result.importances_mean.argsort()\n",
    "plt.barh(range(len(sorted_idx)), result.importances_mean[sorted_idx], align=\"center\")\n",
    "plt.yticks(range(len(sorted_idx)), test_x.columns[sorted_idx])\n",
    "plt.xlabel(\"Permutation Importance\")\n",
    "plt.show()"
   ]
  }
 ],
 "metadata": {
  "kernelspec": {
   "display_name": "Python 3",
   "language": "python",
   "name": "python3"
  },
  "language_info": {
   "codemirror_mode": {
    "name": "ipython",
    "version": 3
   },
   "file_extension": ".py",
   "mimetype": "text/x-python",
   "name": "python",
   "nbconvert_exporter": "python",
   "pygments_lexer": "ipython3",
<<<<<<< HEAD
   "version": "3.11.9"
=======
   "version": "3.10.12"
>>>>>>> fcd08195b3afd95e3c483e74502b9719a2532a38
  }
 },
 "nbformat": 4,
 "nbformat_minor": 2
}
