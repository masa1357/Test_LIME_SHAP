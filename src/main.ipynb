{
 "cells": [
  {
   "cell_type": "markdown",
   "metadata": {},
   "source": [
    "## LIME と SHAP によるデータセット分析"
   ]
  },
  {
   "cell_type": "code",
   "execution_count": 77,
   "metadata": {},
   "outputs": [],
   "source": [
    "import pandas as pd\n",
    "import python.data_manager as dm\n",
    "import importlib"
   ]
  },
  {
   "cell_type": "code",
   "execution_count": 78,
   "metadata": {},
   "outputs": [
    {
     "name": "stderr",
     "output_type": "stream",
     "text": [
      "2024-05-28 21:14:36,506 : python.data_manager : INFO : 32 : Test_message\n"
     ]
    },
    {
     "data": {
      "text/plain": [
       "<module 'python.data_manager' from 'c:\\\\Users\\\\zigza\\\\OneDrive\\\\ドキュメント\\\\0_大学院\\\\Projects\\\\Test_LIME_SHAP\\\\src\\\\python\\\\data_manager.py'>"
      ]
     },
     "execution_count": 78,
     "metadata": {},
     "output_type": "execute_result"
    }
   ],
   "source": [
    "importlib.reload(dm)"
   ]
  },
  {
   "cell_type": "code",
   "execution_count": 79,
   "metadata": {},
   "outputs": [
    {
     "name": "stderr",
     "output_type": "stream",
     "text": [
      "2024-05-28 21:14:36,522 : python.data_manager : INFO : 77 : read ..\\data\\Reflection *.csv data...\n",
      "2024-05-28 21:14:36,524 : python.data_manager : INFO : 80 : read : [WindowsPath('../data/Reflection/Course_C-2021-1_Reflection.csv'), WindowsPath('../data/Reflection/Course_C-2021-2_Reflection.csv'), WindowsPath('../data/Reflection/Course_C-2022-1_Reflection.csv')]\n",
      "2024-05-28 21:14:36,676 : python.data_manager : INFO : 87 : get 28275 rows.\n",
      "2024-05-28 21:14:36,677 : python.data_manager : INFO : 77 : read ..\\data\\Grade *.csv data...\n",
      "2024-05-28 21:14:36,678 : python.data_manager : INFO : 80 : read : [WindowsPath('../data/Grade/Course_C-2021-1_GradePoint.csv'), WindowsPath('../data/Grade/Course_C-2021-2_GradePoint.csv'), WindowsPath('../data/Grade/Course_C-2022-1_GradePoint.csv')]\n",
      "2024-05-28 21:14:36,686 : python.data_manager : INFO : 87 : get 378 rows.\n"
     ]
    }
   ],
   "source": [
    "left_df  = dm.read_folder(\"../data/Reflection/\")\n",
    "right_df = dm.read_folder(\"../data/Grade/\")"
   ]
  },
  {
   "cell_type": "code",
   "execution_count": 80,
   "metadata": {},
   "outputs": [
    {
     "data": {
      "text/html": [
       "<div>\n",
       "<style scoped>\n",
       "    .dataframe tbody tr th:only-of-type {\n",
       "        vertical-align: middle;\n",
       "    }\n",
       "\n",
       "    .dataframe tbody tr th {\n",
       "        vertical-align: top;\n",
       "    }\n",
       "\n",
       "    .dataframe thead th {\n",
       "        text-align: right;\n",
       "    }\n",
       "</style>\n",
       "<table border=\"1\" class=\"dataframe\">\n",
       "  <thead>\n",
       "    <tr style=\"text-align: right;\">\n",
       "      <th></th>\n",
       "      <th>userid</th>\n",
       "      <th>course_number</th>\n",
       "      <th>question_number</th>\n",
       "      <th>question_content</th>\n",
       "      <th>answer_content</th>\n",
       "    </tr>\n",
       "  </thead>\n",
       "  <tbody>\n",
       "    <tr>\n",
       "      <th>0</th>\n",
       "      <td>C-2021-1_U57</td>\n",
       "      <td>1</td>\n",
       "      <td>1</td>\n",
       "      <td>今日の内容を自分なりの言葉で説明してみてください</td>\n",
       "      <td>携帯やpcは音声、文章、写真を伝える。現在の通信技術に至るまでに、さまざまな技術が生み出され...</td>\n",
       "    </tr>\n",
       "    <tr>\n",
       "      <th>1</th>\n",
       "      <td>C-2021-1_U57</td>\n",
       "      <td>1</td>\n",
       "      <td>2</td>\n",
       "      <td>今日の内容で、分かったこと・できたことを書いてください</td>\n",
       "      <td>情報は１と０で表され、その組み合わせで伝えられる。</td>\n",
       "    </tr>\n",
       "    <tr>\n",
       "      <th>2</th>\n",
       "      <td>C-2021-1_U57</td>\n",
       "      <td>1</td>\n",
       "      <td>3</td>\n",
       "      <td>今日の内容で、分からなかったこと・できなかったことを書いてください</td>\n",
       "      <td>特になし。</td>\n",
       "    </tr>\n",
       "    <tr>\n",
       "      <th>3</th>\n",
       "      <td>C-2021-1_U57</td>\n",
       "      <td>1</td>\n",
       "      <td>4</td>\n",
       "      <td>質問があれば書いてください</td>\n",
       "      <td>特になし。</td>\n",
       "    </tr>\n",
       "    <tr>\n",
       "      <th>4</th>\n",
       "      <td>C-2021-1_U57</td>\n",
       "      <td>1</td>\n",
       "      <td>5</td>\n",
       "      <td>今日の授業の感想や反省を書いてください</td>\n",
       "      <td>特になし。</td>\n",
       "    </tr>\n",
       "  </tbody>\n",
       "</table>\n",
       "</div>"
      ],
      "text/plain": [
       "         userid  course_number  question_number   \n",
       "0  C-2021-1_U57              1                1  \\\n",
       "1  C-2021-1_U57              1                2   \n",
       "2  C-2021-1_U57              1                3   \n",
       "3  C-2021-1_U57              1                4   \n",
       "4  C-2021-1_U57              1                5   \n",
       "\n",
       "                    question_content   \n",
       "0           今日の内容を自分なりの言葉で説明してみてください  \\\n",
       "1        今日の内容で、分かったこと・できたことを書いてください   \n",
       "2  今日の内容で、分からなかったこと・できなかったことを書いてください   \n",
       "3                      質問があれば書いてください   \n",
       "4                今日の授業の感想や反省を書いてください   \n",
       "\n",
       "                                      answer_content  \n",
       "0  携帯やpcは音声、文章、写真を伝える。現在の通信技術に至るまでに、さまざまな技術が生み出され...  \n",
       "1                          情報は１と０で表され、その組み合わせで伝えられる。  \n",
       "2                                              特になし。  \n",
       "3                                              特になし。  \n",
       "4                                              特になし。  "
      ]
     },
     "execution_count": 80,
     "metadata": {},
     "output_type": "execute_result"
    }
   ],
   "source": [
    "left_df.head()"
   ]
  },
  {
   "cell_type": "code",
   "execution_count": 81,
   "metadata": {},
   "outputs": [],
   "source": [
    "key = \"userid\"\n",
    "df = pd.merge(left=left_df, right=right_df, on=key)"
   ]
  },
  {
   "cell_type": "code",
   "execution_count": 82,
   "metadata": {},
   "outputs": [
    {
     "data": {
      "text/html": [
       "<div>\n",
       "<style scoped>\n",
       "    .dataframe tbody tr th:only-of-type {\n",
       "        vertical-align: middle;\n",
       "    }\n",
       "\n",
       "    .dataframe tbody tr th {\n",
       "        vertical-align: top;\n",
       "    }\n",
       "\n",
       "    .dataframe thead th {\n",
       "        text-align: right;\n",
       "    }\n",
       "</style>\n",
       "<table border=\"1\" class=\"dataframe\">\n",
       "  <thead>\n",
       "    <tr style=\"text-align: right;\">\n",
       "      <th></th>\n",
       "      <th>userid</th>\n",
       "      <th>course_number</th>\n",
       "      <th>question_number</th>\n",
       "      <th>question_content</th>\n",
       "      <th>answer_content</th>\n",
       "      <th>grade</th>\n",
       "    </tr>\n",
       "  </thead>\n",
       "  <tbody>\n",
       "    <tr>\n",
       "      <th>0</th>\n",
       "      <td>C-2021-1_U57</td>\n",
       "      <td>1</td>\n",
       "      <td>1</td>\n",
       "      <td>今日の内容を自分なりの言葉で説明してみてください</td>\n",
       "      <td>携帯やpcは音声、文章、写真を伝える。現在の通信技術に至るまでに、さまざまな技術が生み出され...</td>\n",
       "      <td>B</td>\n",
       "    </tr>\n",
       "    <tr>\n",
       "      <th>1</th>\n",
       "      <td>C-2021-1_U57</td>\n",
       "      <td>1</td>\n",
       "      <td>2</td>\n",
       "      <td>今日の内容で、分かったこと・できたことを書いてください</td>\n",
       "      <td>情報は１と０で表され、その組み合わせで伝えられる。</td>\n",
       "      <td>B</td>\n",
       "    </tr>\n",
       "    <tr>\n",
       "      <th>2</th>\n",
       "      <td>C-2021-1_U57</td>\n",
       "      <td>1</td>\n",
       "      <td>3</td>\n",
       "      <td>今日の内容で、分からなかったこと・できなかったことを書いてください</td>\n",
       "      <td>特になし。</td>\n",
       "      <td>B</td>\n",
       "    </tr>\n",
       "    <tr>\n",
       "      <th>3</th>\n",
       "      <td>C-2021-1_U57</td>\n",
       "      <td>1</td>\n",
       "      <td>4</td>\n",
       "      <td>質問があれば書いてください</td>\n",
       "      <td>特になし。</td>\n",
       "      <td>B</td>\n",
       "    </tr>\n",
       "    <tr>\n",
       "      <th>4</th>\n",
       "      <td>C-2021-1_U57</td>\n",
       "      <td>1</td>\n",
       "      <td>5</td>\n",
       "      <td>今日の授業の感想や反省を書いてください</td>\n",
       "      <td>特になし。</td>\n",
       "      <td>B</td>\n",
       "    </tr>\n",
       "  </tbody>\n",
       "</table>\n",
       "</div>"
      ],
      "text/plain": [
       "         userid  course_number  question_number   \n",
       "0  C-2021-1_U57              1                1  \\\n",
       "1  C-2021-1_U57              1                2   \n",
       "2  C-2021-1_U57              1                3   \n",
       "3  C-2021-1_U57              1                4   \n",
       "4  C-2021-1_U57              1                5   \n",
       "\n",
       "                    question_content   \n",
       "0           今日の内容を自分なりの言葉で説明してみてください  \\\n",
       "1        今日の内容で、分かったこと・できたことを書いてください   \n",
       "2  今日の内容で、分からなかったこと・できなかったことを書いてください   \n",
       "3                      質問があれば書いてください   \n",
       "4                今日の授業の感想や反省を書いてください   \n",
       "\n",
       "                                      answer_content grade  \n",
       "0  携帯やpcは音声、文章、写真を伝える。現在の通信技術に至るまでに、さまざまな技術が生み出され...     B  \n",
       "1                          情報は１と０で表され、その組み合わせで伝えられる。     B  \n",
       "2                                              特になし。     B  \n",
       "3                                              特になし。     B  \n",
       "4                                              特になし。     B  "
      ]
     },
     "execution_count": 82,
     "metadata": {},
     "output_type": "execute_result"
    }
   ],
   "source": [
    "df.head()"
   ]
  },
  {
   "cell_type": "code",
   "execution_count": 83,
   "metadata": {},
   "outputs": [],
   "source": [
    "LABEL_MAPPING = {\"A\": 0, \"B\": 1, \"C\": 2, \"D\": 3, \"F\": 4}\n",
    "df[\"label\"] = df[\"grade\"].map(LABEL_MAPPING).astype(int)"
   ]
  },
  {
   "cell_type": "code",
   "execution_count": 85,
   "metadata": {},
   "outputs": [
    {
     "name": "stderr",
     "output_type": "stream",
     "text": [
      "2024-05-28 21:14:36,842 : python.data_manager : INFO : 221 : df shape : (28275, 7)\n",
      "2024-05-28 21:14:36,843 : python.data_manager : INFO : 222 : cleaned_df shape : (20291, 7)\n",
      "2024-05-28 21:14:36,844 : python.data_manager : INFO : 223 : dumped 7984 rows.\n",
      "2024-05-28 21:14:36,855 : python.data_manager : INFO : 231 : dump_df shape : (7984, 7)\n"
     ]
    },
    {
     "data": {
      "text/html": [
       "<div>\n",
       "<style scoped>\n",
       "    .dataframe tbody tr th:only-of-type {\n",
       "        vertical-align: middle;\n",
       "    }\n",
       "\n",
       "    .dataframe tbody tr th {\n",
       "        vertical-align: top;\n",
       "    }\n",
       "\n",
       "    .dataframe thead th {\n",
       "        text-align: right;\n",
       "    }\n",
       "</style>\n",
       "<table border=\"1\" class=\"dataframe\">\n",
       "  <thead>\n",
       "    <tr style=\"text-align: right;\">\n",
       "      <th></th>\n",
       "      <th>userid</th>\n",
       "      <th>course_number</th>\n",
       "      <th>question_number</th>\n",
       "      <th>question_content</th>\n",
       "      <th>answer_content</th>\n",
       "      <th>grade</th>\n",
       "      <th>label</th>\n",
       "    </tr>\n",
       "  </thead>\n",
       "  <tbody>\n",
       "    <tr>\n",
       "      <th>18</th>\n",
       "      <td>C-2021-1_U57</td>\n",
       "      <td>4</td>\n",
       "      <td>4</td>\n",
       "      <td>質問があれば書いてください</td>\n",
       "      <td>NaN</td>\n",
       "      <td>B</td>\n",
       "      <td>1</td>\n",
       "    </tr>\n",
       "    <tr>\n",
       "      <th>28</th>\n",
       "      <td>C-2021-1_U57</td>\n",
       "      <td>6</td>\n",
       "      <td>4</td>\n",
       "      <td>質問があれば書いてください</td>\n",
       "      <td>NaN</td>\n",
       "      <td>B</td>\n",
       "      <td>1</td>\n",
       "    </tr>\n",
       "    <tr>\n",
       "      <th>33</th>\n",
       "      <td>C-2021-1_U57</td>\n",
       "      <td>7</td>\n",
       "      <td>4</td>\n",
       "      <td>質問があれば書いてください</td>\n",
       "      <td>NaN</td>\n",
       "      <td>B</td>\n",
       "      <td>1</td>\n",
       "    </tr>\n",
       "    <tr>\n",
       "      <th>42</th>\n",
       "      <td>C-2021-1_U57</td>\n",
       "      <td>9</td>\n",
       "      <td>3</td>\n",
       "      <td>今日の内容で、分からなかったこと・できなかったことを書いてください</td>\n",
       "      <td>NaN</td>\n",
       "      <td>B</td>\n",
       "      <td>1</td>\n",
       "    </tr>\n",
       "    <tr>\n",
       "      <th>43</th>\n",
       "      <td>C-2021-1_U57</td>\n",
       "      <td>9</td>\n",
       "      <td>4</td>\n",
       "      <td>質問があれば書いてください</td>\n",
       "      <td>NaN</td>\n",
       "      <td>B</td>\n",
       "      <td>1</td>\n",
       "    </tr>\n",
       "  </tbody>\n",
       "</table>\n",
       "</div>"
      ],
      "text/plain": [
       "          userid  course_number  question_number   \n",
       "18  C-2021-1_U57              4                4  \\\n",
       "28  C-2021-1_U57              6                4   \n",
       "33  C-2021-1_U57              7                4   \n",
       "42  C-2021-1_U57              9                3   \n",
       "43  C-2021-1_U57              9                4   \n",
       "\n",
       "                     question_content answer_content grade  label  \n",
       "18                      質問があれば書いてください            NaN     B      1  \n",
       "28                      質問があれば書いてください            NaN     B      1  \n",
       "33                      質問があれば書いてください            NaN     B      1  \n",
       "42  今日の内容で、分からなかったこと・できなかったことを書いてください            NaN     B      1  \n",
       "43                      質問があれば書いてください            NaN     B      1  "
      ]
     },
     "execution_count": 85,
     "metadata": {},
     "output_type": "execute_result"
    }
   ],
   "source": [
    "_, dump = dm.data_clean(df)\n",
    "dump.head()"
   ]
  },
  {
   "cell_type": "code",
   "execution_count": 86,
   "metadata": {},
   "outputs": [],
   "source": [
    "train, valid, test = dm.sprit_data_for_user(df, key=key, text=\"answer_content\", label=\"grade\", split_rate=[0.8, 0.1, 0.1])"
   ]
  },
  {
   "cell_type": "code",
   "execution_count": 87,
   "metadata": {},
   "outputs": [
    {
     "name": "stdout",
     "output_type": "stream",
     "text": [
      "\n",
      "      columns =\n",
      "      train : Index(['userid', 'grade', 'text', 'course_number', 'question_number', 'label'], dtype='object')\n",
      "      valid : Index(['userid', 'grade', 'text', 'course_number', 'question_number', 'label'], dtype='object')\n",
      "      test  : Index(['userid', 'grade', 'text', 'course_number', 'question_number', 'label'], dtype='object')\n",
      "      \n"
     ]
    }
   ],
   "source": [
    "print(f\"\"\"\n",
    "      columns =\n",
    "      train : {train.columns}\n",
    "      valid : {valid.columns}\n",
    "      test  : {test.columns}\n",
    "      \"\"\"\n",
    ")"
   ]
  },
  {
   "cell_type": "code",
   "execution_count": 88,
   "metadata": {},
   "outputs": [
    {
     "name": "stdout",
     "output_type": "stream",
     "text": [
      "\n",
      "      rows =\n",
      "      train : 22575\t- 0.7984084880636605 %\n",
      "      valid : 2850\t- 0.10079575596816977 %\n",
      "      test  : 2850\t- 0.10079575596816977 %\n",
      "      \n"
     ]
    }
   ],
   "source": [
    "print(f\"\"\"\n",
    "      rows =\n",
    "      train : {len(train)}\\t- {len(train) / (len(train) + len(valid) + len(test))} %\n",
    "      valid : {len(valid)}\\t- {len(valid) / (len(train) + len(valid) + len(test))} %\n",
    "      test  : {len(test)}\\t- {len(test ) / (len(train) + len(valid) + len(test))} %\n",
    "      \"\"\"\n",
    ")"
   ]
  },
  {
   "cell_type": "code",
   "execution_count": 89,
   "metadata": {},
   "outputs": [
    {
     "data": {
      "text/html": [
       "<div>\n",
       "<style scoped>\n",
       "    .dataframe tbody tr th:only-of-type {\n",
       "        vertical-align: middle;\n",
       "    }\n",
       "\n",
       "    .dataframe tbody tr th {\n",
       "        vertical-align: top;\n",
       "    }\n",
       "\n",
       "    .dataframe thead th {\n",
       "        text-align: right;\n",
       "    }\n",
       "</style>\n",
       "<table border=\"1\" class=\"dataframe\">\n",
       "  <thead>\n",
       "    <tr style=\"text-align: right;\">\n",
       "      <th></th>\n",
       "      <th>userid</th>\n",
       "      <th>grade</th>\n",
       "      <th>text</th>\n",
       "      <th>course_number</th>\n",
       "      <th>question_number</th>\n",
       "      <th>label</th>\n",
       "    </tr>\n",
       "  </thead>\n",
       "  <tbody>\n",
       "    <tr>\n",
       "      <th>0</th>\n",
       "      <td>C-2022-1_U80</td>\n",
       "      <td>C</td>\n",
       "      <td>情報伝達の歴史について\\r\\n〇or✖のようなシンプルな情報伝達から取り決めによってより具体...</td>\n",
       "      <td>01</td>\n",
       "      <td>1</td>\n",
       "      <td>2</td>\n",
       "    </tr>\n",
       "    <tr>\n",
       "      <th>1</th>\n",
       "      <td>C-2021-1_U81</td>\n",
       "      <td>D</td>\n",
       "      <td>イントロダクション　情報通信方法</td>\n",
       "      <td>01</td>\n",
       "      <td>1</td>\n",
       "      <td>3</td>\n",
       "    </tr>\n",
       "    <tr>\n",
       "      <th>2</th>\n",
       "      <td>C-2021-2_U2</td>\n",
       "      <td>F</td>\n",
       "      <td>nan</td>\n",
       "      <td>01</td>\n",
       "      <td>1</td>\n",
       "      <td>4</td>\n",
       "    </tr>\n",
       "    <tr>\n",
       "      <th>3</th>\n",
       "      <td>C-2021-2_U54</td>\n",
       "      <td>B</td>\n",
       "      <td>外部Moodleの使い方や、リアルタイムモニタリングの閲覧の仕方を学んだ。人間ははじめは言葉...</td>\n",
       "      <td>01</td>\n",
       "      <td>1</td>\n",
       "      <td>1</td>\n",
       "    </tr>\n",
       "    <tr>\n",
       "      <th>4</th>\n",
       "      <td>C-2021-2_U98</td>\n",
       "      <td>C</td>\n",
       "      <td>今回は新しいmoodleのシステム扱い方や通信技術の起源を簡単に触れた</td>\n",
       "      <td>01</td>\n",
       "      <td>1</td>\n",
       "      <td>2</td>\n",
       "    </tr>\n",
       "  </tbody>\n",
       "</table>\n",
       "</div>"
      ],
      "text/plain": [
       "         userid grade                                               text   \n",
       "0  C-2022-1_U80     C  情報伝達の歴史について\\r\\n〇or✖のようなシンプルな情報伝達から取り決めによってより具体...  \\\n",
       "1  C-2021-1_U81     D                                   イントロダクション　情報通信方法   \n",
       "2   C-2021-2_U2     F                                                nan   \n",
       "3  C-2021-2_U54     B  外部Moodleの使い方や、リアルタイムモニタリングの閲覧の仕方を学んだ。人間ははじめは言葉...   \n",
       "4  C-2021-2_U98     C                今回は新しいmoodleのシステム扱い方や通信技術の起源を簡単に触れた   \n",
       "\n",
       "  course_number question_number  label  \n",
       "0            01               1      2  \n",
       "1            01               1      3  \n",
       "2            01               1      4  \n",
       "3            01               1      1  \n",
       "4            01               1      2  "
      ]
     },
     "execution_count": 89,
     "metadata": {},
     "output_type": "execute_result"
    }
   ],
   "source": [
    "train.head()"
   ]
  },
  {
   "cell_type": "code",
   "execution_count": null,
   "metadata": {},
   "outputs": [],
   "source": [
    "text = \"answer_content\"\n",
    "label = \"label\"\n",
    "categories = train[label].unique().tolist()"
   ]
  },
  {
   "cell_type": "markdown",
   "metadata": {},
   "source": [
    "### 分類機実装"
   ]
  },
  {
   "cell_type": "code",
   "execution_count": 90,
   "metadata": {},
   "outputs": [
    {
     "ename": "ModuleNotFoundError",
     "evalue": "No module named 'MeCab'",
     "output_type": "error",
     "traceback": [
      "\u001b[1;31m---------------------------------------------------------------------------\u001b[0m",
      "\u001b[1;31mModuleNotFoundError\u001b[0m                       Traceback (most recent call last)",
      "Cell \u001b[1;32mIn[90], line 1\u001b[0m\n\u001b[1;32m----> 1\u001b[0m \u001b[38;5;28;01mimport\u001b[39;00m \u001b[38;5;21;01mMeCab\u001b[39;00m\n\u001b[0;32m      2\u001b[0m \u001b[38;5;28;01mimport\u001b[39;00m \u001b[38;5;21;01mre\u001b[39;00m\n\u001b[0;32m      4\u001b[0m tagger \u001b[38;5;241m=\u001b[39m MeCab\u001b[38;5;241m.\u001b[39mTagger(\u001b[38;5;124m\"\u001b[39m\u001b[38;5;124m-Owakati\u001b[39m\u001b[38;5;124m\"\u001b[39m)\n",
      "\u001b[1;31mModuleNotFoundError\u001b[0m: No module named 'MeCab'"
     ]
    }
   ],
   "source": [
    "import MeCab\n",
    "import re\n",
    "\n",
    "tagger = MeCab.Tagger(\"-Owakati\")\n",
    "\n",
    "\n",
    "def make_wakati(sentence):\n",
    "    sentence = tagger.parse(sentence)\n",
    "    sentence = re.sub(r\"[0-9０-９a-zA-Zａ-ｚＡ-Ｚ]+\", \" \", sentence)\n",
    "    sentence = re.sub(\n",
    "        r\"[\\．_－―─！＠＃＄％＾＆\\-‐|\\\\＊\\“（）＿■×+α※÷⇒—●★☆〇◎◆▼◇△□(：〜～＋=＝)／*&^%$#@!~`){}［］…\\[\\]\\\"\\'\\”\\’:;<>?＜＞〔〕〈〉？、。・,\\./『』【】「」→←○《》≪≫\\n\\u3000]+\",\n",
    "        \"\",\n",
    "        sentence,\n",
    "    )\n",
    "    wakati = sentence.split(\" \")\n",
    "    wakati = list(filter((\"\").__ne__, wakati))\n",
    "    return wakati"
   ]
  },
  {
   "cell_type": "code",
   "execution_count": null,
   "metadata": {},
   "outputs": [],
   "source": [
    "from gensim.models import Word2Vec\n",
    "import numpy as np\n",
    "import logging\n",
    "import tqdm\n",
    "\n",
    "# word2vec parameters\n",
    "num_features = 200\n",
    "min_word_count = 5\n",
    "num_workers = 40\n",
    "context = 10\n",
    "downsampling = 1e-3\n",
    "model_name = \"word2vec_testcase.model\"\n",
    "\n",
    "# コーパス読み込み\n",
    "corpus = []\n",
    "for doc in tqdm(df[\"answer_content\"]):\n",
    "    corpus.append(make_wakati(doc))\n",
    "\n",
    "\n",
    "# word2vecモデルの作成＆モデルの保存\n",
    "print(\"cleating word2vec model ...\")\n",
    "logging.basicConfig(\n",
    "    format=\"%(asctime)s : %(levelname)s : %(message)s\", level=logging.INFO\n",
    ")\n",
    "model = Word2Vec(\n",
    "    corpus,\n",
    "    workers=num_workers,\n",
    "    hs=0,\n",
    "    sg=1,\n",
    "    negative=10,\n",
    "    iter=25,\n",
    "    size=num_features,\n",
    "    min_count=min_word_count,\n",
    "    window=context,\n",
    "    sample=downsampling,\n",
    "    seed=1,\n",
    ")\n",
    "model.save(model_name)\n",
    "print(\"Done.\")\n",
    "\n",
    "# word2vecモデルの読み込み\n",
    "# model = Word2Vec.load(model_name)\n",
    "\n",
    "# test\n",
    "# print(model.wv.most_similar(\"フーリエ変換\"))"
   ]
  },
  {
   "cell_type": "code",
   "execution_count": null,
   "metadata": {},
   "outputs": [],
   "source": [
    "def wordvec2docvec(sentence):\n",
    "    # 文章ベクトルの初期値（0ベクトルを初期値とする）\n",
    "    docvecs = np.zeros(num_features, dtype=\"float32\")\n",
    "\n",
    "    # 文章に現れる単語のうち、モデルに存在しない単語をカウントする\n",
    "    denomenator = len(sentence)\n",
    "\n",
    "    # 文章内の各単語ベクトルを足し合わせる\n",
    "    for word in sentence:\n",
    "        try:\n",
    "            temp = model[word]\n",
    "        except:\n",
    "            denomenator -= 1\n",
    "            continue\n",
    "        docvecs += temp\n",
    "\n",
    "    # 文章に現れる単語のうち、モデルに存在した単語の数で割る\n",
    "    if denomenator > 0:\n",
    "        docvecs = docvecs / denomenator\n",
    "\n",
    "    return docvecs"
   ]
  },
  {
   "cell_type": "code",
   "execution_count": null,
   "metadata": {},
   "outputs": [],
   "source": [
    "from sklearn.model_selection import train_test_split\n",
    "\n",
    "print(len(df[text]))\n",
    "X, Y = [], []\n",
    "for doc, category in tqdm(zip(df[text], df[label])):\n",
    "    wakati = make_wakati(doc)\n",
    "    docvec = wordvec2docvec(wakati)\n",
    "    X.append(list(docvec))\n",
    "    Y.append(LABEL_MAPPING[category])\n",
    "data_X = pd.DataFrame(X, columns=[\"X\" + str(i + 1) for i in range(num_features)])\n",
    "data_Y = pd.DataFrame(Y, columns=[\"category_id\"])\n",
    "\n",
    "train_x, test_x, train_y, test_y = train_test_split(data_X, data_Y, train_size=0.7)"
   ]
  },
  {
   "cell_type": "code",
   "execution_count": null,
   "metadata": {},
   "outputs": [],
   "source": [
    "import xgboost as xgb\n",
    "from sklearn.metrics import classification_report\n",
    "\n",
    "print(\"Fitting XGboost model ...\")\n",
    "xgb_model = xgb.XGBClassifier()\n",
    "xgb_model.fit(train_x, train_y)\n",
    "print(\"Done.\")\n",
    "\n",
    "# 予測\n",
    "pred = xgb_model.predict(test_x)\n",
    "print(classification_report(pred, test_y[\"category_id\"], target_names=categories))"
   ]
  },
  {
   "cell_type": "code",
   "execution_count": null,
   "metadata": {},
   "outputs": [],
   "source": [
    "import lightgbm as lgbm\n",
    "\n",
    "print(\"Fitting LightGBM model ...\")\n",
    "lgbm_model = lgbm.LGBMClassifier()\n",
    "lgbm_model.fit(train_x, train_y)\n",
    "print(\"Done.\")\n",
    "\n",
    "# 予測\n",
    "pred = lgbm_model.predict(test_x)\n",
    "print(classification_report(pred, test_y[\"category_id\"], target_names=categories))"
   ]
  },
  {
   "cell_type": "code",
   "execution_count": null,
   "metadata": {},
   "outputs": [],
   "source": [
    "from sklearn.ensemble import RandomForestClassifier\n",
    "\n",
    "rfc = RandomForestClassifier()\n",
    "rfc.fit(train_x, train_y)\n",
    "pred = rfc.predict(test_x)\n",
    "print(classification_report(pred, test_y[\"category_id\"], target_names=categories))\n"
   ]
  },
  {
   "cell_type": "code",
   "execution_count": null,
   "metadata": {},
   "outputs": [],
   "source": [
    "from sklearn.feature_extraction.text import TfidfVectorizer\n",
    "\n",
    "corpus = datasets[\"document\"]\n",
    "tfidf_vectorizer = TfidfVectorizer(analyzer=make_wakati)\n",
    "tfidfs = tfidf_vectorizer.fit_transform(corpus)\n",
    "print(tfidfs.shape)\n",
    "# (7376, 79673)\n",
    "\n",
    "tfidf_data_X = pd.DataFrame(\n",
    "    tfidfs.toarray(), columns=[\"X\" + str(i) for i in range(tfidfs.shape[1])]\n",
    ")\n",
    "train_x, test_x, train_y, test_y = train_test_split(data_X, data_Y, train_size=0.7)\n",
    "lgbm_model = lgbm.LGBMClassifier()\n",
    "lgbm_model.fit(train_x, train_y)\n",
    "pred = lgbm_model.predict(test_x)\n",
    "print(classification_report(pred, test_y[\"category_id\"], target_names=categories))"
   ]
  }
 ],
 "metadata": {
  "kernelspec": {
   "display_name": "Python 3",
   "language": "python",
   "name": "python3"
  },
  "language_info": {
   "codemirror_mode": {
    "name": "ipython",
    "version": 3
   },
   "file_extension": ".py",
   "mimetype": "text/x-python",
   "name": "python",
   "nbconvert_exporter": "python",
   "pygments_lexer": "ipython3",
   "version": "3.11.9"
  }
 },
 "nbformat": 4,
 "nbformat_minor": 2
}
