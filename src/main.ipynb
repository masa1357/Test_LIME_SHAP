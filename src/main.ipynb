{
 "cells": [
  {
   "cell_type": "markdown",
   "metadata": {},
   "source": [
    "## LIME と SHAP によるデータセット分析"
   ]
  },
  {
   "cell_type": "code",
   "execution_count": 1,
   "metadata": {},
   "outputs": [
    {
     "name": "stderr",
     "output_type": "stream",
     "text": [
      "2024-05-28 20:12:13,875 : python.data_manager : INFO : 32 : Test_message\n"
     ]
    }
   ],
   "source": [
    "import pandas as pd\n",
    "import python.data_manager as dm\n",
    "import importlib"
   ]
  },
  {
   "cell_type": "code",
   "execution_count": 2,
   "metadata": {},
   "outputs": [
    {
     "name": "stderr",
     "output_type": "stream",
     "text": [
      "2024-05-28 20:12:13,898 : python.data_manager : INFO : 32 : Test_message\n"
     ]
    },
    {
     "data": {
      "text/plain": [
       "<module 'python.data_manager' from 'c:\\\\Users\\\\zigza\\\\OneDrive\\\\ドキュメント\\\\0_大学院\\\\Projects\\\\Test_LIME_SHAP\\\\src\\\\python\\\\data_manager.py'>"
      ]
     },
     "execution_count": 2,
     "metadata": {},
     "output_type": "execute_result"
    }
   ],
   "source": [
    "importlib.reload(dm)"
   ]
  },
  {
   "cell_type": "code",
   "execution_count": 3,
   "metadata": {},
   "outputs": [
    {
     "name": "stderr",
     "output_type": "stream",
     "text": [
      "2024-05-28 20:12:13,919 : python.data_manager : INFO : 77 : read ..\\data\\Reflection *.csv data...\n",
      "2024-05-28 20:12:13,921 : python.data_manager : INFO : 80 : read : [WindowsPath('../data/Reflection/Course_C-2021-1_Reflection.csv'), WindowsPath('../data/Reflection/Course_C-2021-2_Reflection.csv'), WindowsPath('../data/Reflection/Course_C-2022-1_Reflection.csv')]\n",
      "2024-05-28 20:12:14,053 : python.data_manager : INFO : 87 : get 28275 rows.\n",
      "2024-05-28 20:12:14,054 : python.data_manager : INFO : 77 : read ..\\data\\Grade *.csv data...\n",
      "2024-05-28 20:12:14,055 : python.data_manager : INFO : 80 : read : [WindowsPath('../data/Grade/Course_C-2021-1_GradePoint.csv'), WindowsPath('../data/Grade/Course_C-2021-2_GradePoint.csv'), WindowsPath('../data/Grade/Course_C-2022-1_GradePoint.csv')]\n",
      "2024-05-28 20:12:14,061 : python.data_manager : INFO : 87 : get 378 rows.\n"
     ]
    }
   ],
   "source": [
    "left_df  = dm.read_folder(\"../data/Reflection/\")\n",
    "right_df = dm.read_folder(\"../data/Grade/\")"
   ]
  },
  {
   "cell_type": "code",
   "execution_count": 4,
   "metadata": {},
   "outputs": [
    {
     "data": {
      "text/html": [
       "<div>\n",
       "<style scoped>\n",
       "    .dataframe tbody tr th:only-of-type {\n",
       "        vertical-align: middle;\n",
       "    }\n",
       "\n",
       "    .dataframe tbody tr th {\n",
       "        vertical-align: top;\n",
       "    }\n",
       "\n",
       "    .dataframe thead th {\n",
       "        text-align: right;\n",
       "    }\n",
       "</style>\n",
       "<table border=\"1\" class=\"dataframe\">\n",
       "  <thead>\n",
       "    <tr style=\"text-align: right;\">\n",
       "      <th></th>\n",
       "      <th>userid</th>\n",
       "      <th>course_number</th>\n",
       "      <th>question_number</th>\n",
       "      <th>question_content</th>\n",
       "      <th>answer_content</th>\n",
       "    </tr>\n",
       "  </thead>\n",
       "  <tbody>\n",
       "    <tr>\n",
       "      <th>0</th>\n",
       "      <td>C-2021-1_U57</td>\n",
       "      <td>1</td>\n",
       "      <td>1</td>\n",
       "      <td>今日の内容を自分なりの言葉で説明してみてください</td>\n",
       "      <td>携帯やpcは音声、文章、写真を伝える。現在の通信技術に至るまでに、さまざまな技術が生み出され...</td>\n",
       "    </tr>\n",
       "    <tr>\n",
       "      <th>1</th>\n",
       "      <td>C-2021-1_U57</td>\n",
       "      <td>1</td>\n",
       "      <td>2</td>\n",
       "      <td>今日の内容で、分かったこと・できたことを書いてください</td>\n",
       "      <td>情報は１と０で表され、その組み合わせで伝えられる。</td>\n",
       "    </tr>\n",
       "    <tr>\n",
       "      <th>2</th>\n",
       "      <td>C-2021-1_U57</td>\n",
       "      <td>1</td>\n",
       "      <td>3</td>\n",
       "      <td>今日の内容で、分からなかったこと・できなかったことを書いてください</td>\n",
       "      <td>特になし。</td>\n",
       "    </tr>\n",
       "    <tr>\n",
       "      <th>3</th>\n",
       "      <td>C-2021-1_U57</td>\n",
       "      <td>1</td>\n",
       "      <td>4</td>\n",
       "      <td>質問があれば書いてください</td>\n",
       "      <td>特になし。</td>\n",
       "    </tr>\n",
       "    <tr>\n",
       "      <th>4</th>\n",
       "      <td>C-2021-1_U57</td>\n",
       "      <td>1</td>\n",
       "      <td>5</td>\n",
       "      <td>今日の授業の感想や反省を書いてください</td>\n",
       "      <td>特になし。</td>\n",
       "    </tr>\n",
       "  </tbody>\n",
       "</table>\n",
       "</div>"
      ],
      "text/plain": [
       "         userid  course_number  question_number   \n",
       "0  C-2021-1_U57              1                1  \\\n",
       "1  C-2021-1_U57              1                2   \n",
       "2  C-2021-1_U57              1                3   \n",
       "3  C-2021-1_U57              1                4   \n",
       "4  C-2021-1_U57              1                5   \n",
       "\n",
       "                    question_content   \n",
       "0           今日の内容を自分なりの言葉で説明してみてください  \\\n",
       "1        今日の内容で、分かったこと・できたことを書いてください   \n",
       "2  今日の内容で、分からなかったこと・できなかったことを書いてください   \n",
       "3                      質問があれば書いてください   \n",
       "4                今日の授業の感想や反省を書いてください   \n",
       "\n",
       "                                      answer_content  \n",
       "0  携帯やpcは音声、文章、写真を伝える。現在の通信技術に至るまでに、さまざまな技術が生み出され...  \n",
       "1                          情報は１と０で表され、その組み合わせで伝えられる。  \n",
       "2                                              特になし。  \n",
       "3                                              特になし。  \n",
       "4                                              特になし。  "
      ]
     },
     "execution_count": 4,
     "metadata": {},
     "output_type": "execute_result"
    }
   ],
   "source": [
    "left_df.head()"
   ]
  },
  {
   "cell_type": "code",
   "execution_count": 5,
   "metadata": {},
   "outputs": [],
   "source": [
    "key = \"userid\"\n",
    "df = pd.merge(left=left_df, right=right_df, on=key)"
   ]
  },
  {
   "cell_type": "code",
   "execution_count": 6,
   "metadata": {},
   "outputs": [
    {
     "data": {
      "text/html": [
       "<div>\n",
       "<style scoped>\n",
       "    .dataframe tbody tr th:only-of-type {\n",
       "        vertical-align: middle;\n",
       "    }\n",
       "\n",
       "    .dataframe tbody tr th {\n",
       "        vertical-align: top;\n",
       "    }\n",
       "\n",
       "    .dataframe thead th {\n",
       "        text-align: right;\n",
       "    }\n",
       "</style>\n",
       "<table border=\"1\" class=\"dataframe\">\n",
       "  <thead>\n",
       "    <tr style=\"text-align: right;\">\n",
       "      <th></th>\n",
       "      <th>userid</th>\n",
       "      <th>course_number</th>\n",
       "      <th>question_number</th>\n",
       "      <th>question_content</th>\n",
       "      <th>answer_content</th>\n",
       "      <th>grade</th>\n",
       "    </tr>\n",
       "  </thead>\n",
       "  <tbody>\n",
       "    <tr>\n",
       "      <th>0</th>\n",
       "      <td>C-2021-1_U57</td>\n",
       "      <td>1</td>\n",
       "      <td>1</td>\n",
       "      <td>今日の内容を自分なりの言葉で説明してみてください</td>\n",
       "      <td>携帯やpcは音声、文章、写真を伝える。現在の通信技術に至るまでに、さまざまな技術が生み出され...</td>\n",
       "      <td>B</td>\n",
       "    </tr>\n",
       "    <tr>\n",
       "      <th>1</th>\n",
       "      <td>C-2021-1_U57</td>\n",
       "      <td>1</td>\n",
       "      <td>2</td>\n",
       "      <td>今日の内容で、分かったこと・できたことを書いてください</td>\n",
       "      <td>情報は１と０で表され、その組み合わせで伝えられる。</td>\n",
       "      <td>B</td>\n",
       "    </tr>\n",
       "    <tr>\n",
       "      <th>2</th>\n",
       "      <td>C-2021-1_U57</td>\n",
       "      <td>1</td>\n",
       "      <td>3</td>\n",
       "      <td>今日の内容で、分からなかったこと・できなかったことを書いてください</td>\n",
       "      <td>特になし。</td>\n",
       "      <td>B</td>\n",
       "    </tr>\n",
       "    <tr>\n",
       "      <th>3</th>\n",
       "      <td>C-2021-1_U57</td>\n",
       "      <td>1</td>\n",
       "      <td>4</td>\n",
       "      <td>質問があれば書いてください</td>\n",
       "      <td>特になし。</td>\n",
       "      <td>B</td>\n",
       "    </tr>\n",
       "    <tr>\n",
       "      <th>4</th>\n",
       "      <td>C-2021-1_U57</td>\n",
       "      <td>1</td>\n",
       "      <td>5</td>\n",
       "      <td>今日の授業の感想や反省を書いてください</td>\n",
       "      <td>特になし。</td>\n",
       "      <td>B</td>\n",
       "    </tr>\n",
       "  </tbody>\n",
       "</table>\n",
       "</div>"
      ],
      "text/plain": [
       "         userid  course_number  question_number   \n",
       "0  C-2021-1_U57              1                1  \\\n",
       "1  C-2021-1_U57              1                2   \n",
       "2  C-2021-1_U57              1                3   \n",
       "3  C-2021-1_U57              1                4   \n",
       "4  C-2021-1_U57              1                5   \n",
       "\n",
       "                    question_content   \n",
       "0           今日の内容を自分なりの言葉で説明してみてください  \\\n",
       "1        今日の内容で、分かったこと・できたことを書いてください   \n",
       "2  今日の内容で、分からなかったこと・できなかったことを書いてください   \n",
       "3                      質問があれば書いてください   \n",
       "4                今日の授業の感想や反省を書いてください   \n",
       "\n",
       "                                      answer_content grade  \n",
       "0  携帯やpcは音声、文章、写真を伝える。現在の通信技術に至るまでに、さまざまな技術が生み出され...     B  \n",
       "1                          情報は１と０で表され、その組み合わせで伝えられる。     B  \n",
       "2                                              特になし。     B  \n",
       "3                                              特になし。     B  \n",
       "4                                              特になし。     B  "
      ]
     },
     "execution_count": 6,
     "metadata": {},
     "output_type": "execute_result"
    }
   ],
   "source": [
    "df.head()"
   ]
  },
  {
   "cell_type": "code",
   "execution_count": 7,
   "metadata": {},
   "outputs": [
    {
     "name": "stderr",
     "output_type": "stream",
     "text": [
      "2024-05-28 20:12:14,177 : python.data_manager : INFO : 218 : df shape : (28275, 6)\n",
      "2024-05-28 20:12:14,179 : python.data_manager : INFO : 219 : cleaned_df shape : (20291, 6)\n",
      "2024-05-28 20:12:14,181 : python.data_manager : INFO : 220 : dumped 7984 rows.\n",
      "2024-05-28 20:12:14,206 : python.data_manager : INFO : 228 : dump_df shape : (7984, 6)\n"
     ]
    },
    {
     "data": {
      "text/html": [
       "<div>\n",
       "<style scoped>\n",
       "    .dataframe tbody tr th:only-of-type {\n",
       "        vertical-align: middle;\n",
       "    }\n",
       "\n",
       "    .dataframe tbody tr th {\n",
       "        vertical-align: top;\n",
       "    }\n",
       "\n",
       "    .dataframe thead th {\n",
       "        text-align: right;\n",
       "    }\n",
       "</style>\n",
       "<table border=\"1\" class=\"dataframe\">\n",
       "  <thead>\n",
       "    <tr style=\"text-align: right;\">\n",
       "      <th></th>\n",
       "      <th>userid</th>\n",
       "      <th>course_number</th>\n",
       "      <th>question_number</th>\n",
       "      <th>question_content</th>\n",
       "      <th>answer_content</th>\n",
       "      <th>grade</th>\n",
       "    </tr>\n",
       "  </thead>\n",
       "  <tbody>\n",
       "    <tr>\n",
       "      <th>18</th>\n",
       "      <td>C-2021-1_U57</td>\n",
       "      <td>4</td>\n",
       "      <td>4</td>\n",
       "      <td>質問があれば書いてください</td>\n",
       "      <td>NaN</td>\n",
       "      <td>B</td>\n",
       "    </tr>\n",
       "    <tr>\n",
       "      <th>28</th>\n",
       "      <td>C-2021-1_U57</td>\n",
       "      <td>6</td>\n",
       "      <td>4</td>\n",
       "      <td>質問があれば書いてください</td>\n",
       "      <td>NaN</td>\n",
       "      <td>B</td>\n",
       "    </tr>\n",
       "    <tr>\n",
       "      <th>33</th>\n",
       "      <td>C-2021-1_U57</td>\n",
       "      <td>7</td>\n",
       "      <td>4</td>\n",
       "      <td>質問があれば書いてください</td>\n",
       "      <td>NaN</td>\n",
       "      <td>B</td>\n",
       "    </tr>\n",
       "    <tr>\n",
       "      <th>42</th>\n",
       "      <td>C-2021-1_U57</td>\n",
       "      <td>9</td>\n",
       "      <td>3</td>\n",
       "      <td>今日の内容で、分からなかったこと・できなかったことを書いてください</td>\n",
       "      <td>NaN</td>\n",
       "      <td>B</td>\n",
       "    </tr>\n",
       "    <tr>\n",
       "      <th>43</th>\n",
       "      <td>C-2021-1_U57</td>\n",
       "      <td>9</td>\n",
       "      <td>4</td>\n",
       "      <td>質問があれば書いてください</td>\n",
       "      <td>NaN</td>\n",
       "      <td>B</td>\n",
       "    </tr>\n",
       "  </tbody>\n",
       "</table>\n",
       "</div>"
      ],
      "text/plain": [
       "          userid  course_number  question_number   \n",
       "18  C-2021-1_U57              4                4  \\\n",
       "28  C-2021-1_U57              6                4   \n",
       "33  C-2021-1_U57              7                4   \n",
       "42  C-2021-1_U57              9                3   \n",
       "43  C-2021-1_U57              9                4   \n",
       "\n",
       "                     question_content answer_content grade  \n",
       "18                      質問があれば書いてください            NaN     B  \n",
       "28                      質問があれば書いてください            NaN     B  \n",
       "33                      質問があれば書いてください            NaN     B  \n",
       "42  今日の内容で、分からなかったこと・できなかったことを書いてください            NaN     B  \n",
       "43                      質問があれば書いてください            NaN     B  "
      ]
     },
     "execution_count": 7,
     "metadata": {},
     "output_type": "execute_result"
    }
   ],
   "source": [
    "_, dump = dm.data_clean(df)\n",
    "dump.head()"
   ]
  },
  {
   "cell_type": "code",
   "execution_count": 8,
   "metadata": {},
   "outputs": [],
   "source": [
    "train, valid, test = dm.sprit_data_for_user(df, key=key, text=\"answer_content\", label=\"grade\", split_rate=[0.8, 0.1, 0.1])"
   ]
  },
  {
   "cell_type": "code",
   "execution_count": 9,
   "metadata": {},
   "outputs": [
    {
     "name": "stdout",
     "output_type": "stream",
     "text": [
      "\n",
      "      columns =\n",
      "      train : Index(['userid', 'grade', 'text', 'course_number', 'question_number'], dtype='object')\n",
      "      valid : Index(['userid', 'grade', 'text', 'course_number', 'question_number'], dtype='object')\n",
      "      test  : Index(['userid', 'grade', 'text', 'course_number', 'question_number'], dtype='object')\n",
      "      \n"
     ]
    }
   ],
   "source": [
    "print(f\"\"\"\n",
    "      columns =\n",
    "      train : {train.columns}\n",
    "      valid : {valid.columns}\n",
    "      test  : {test.columns}\n",
    "      \"\"\"\n",
    ")"
   ]
  },
  {
   "cell_type": "code",
   "execution_count": 10,
   "metadata": {},
   "outputs": [
    {
     "name": "stdout",
     "output_type": "stream",
     "text": [
      "\n",
      "      rows =\n",
      "      train : 22575\t- 0.7984084880636605 %\n",
      "      valid : 2850\t- 0.10079575596816977 %\n",
      "      test  : 2850\t- 0.10079575596816977 %\n",
      "      \n"
     ]
    }
   ],
   "source": [
    "print(f\"\"\"\n",
    "      rows =\n",
    "      train : {len(train)}\\t- {len(train) / (len(train) + len(valid) + len(test))} %\n",
    "      valid : {len(valid)}\\t- {len(valid) / (len(train) + len(valid) + len(test))} %\n",
    "      test  : {len(test)}\\t- {len(test ) / (len(train) + len(valid) + len(test))} %\n",
    "      \"\"\"\n",
    ")"
   ]
  },
  {
   "cell_type": "markdown",
   "metadata": {},
   "source": [
    "### LIME実装"
   ]
  },
  {
   "cell_type": "code",
   "execution_count": null,
   "metadata": {},
   "outputs": [],
   "source": []
  }
 ],
 "metadata": {
  "kernelspec": {
   "display_name": "Python 3",
   "language": "python",
   "name": "python3"
  },
  "language_info": {
   "codemirror_mode": {
    "name": "ipython",
    "version": 3
   },
   "file_extension": ".py",
   "mimetype": "text/x-python",
   "name": "python",
   "nbconvert_exporter": "python",
   "pygments_lexer": "ipython3",
   "version": "3.11.3"
  }
 },
 "nbformat": 4,
 "nbformat_minor": 2
}
