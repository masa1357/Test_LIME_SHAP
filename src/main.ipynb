{
 "cells": [
  {
   "cell_type": "markdown",
   "metadata": {},
   "source": [
    "## LIME と SHAP によるデータセット分析"
   ]
  },
  {
   "cell_type": "code",
   "execution_count": 11,
   "metadata": {},
   "outputs": [],
   "source": [
    "import pandas as pd\n",
    "import python.data_manager as dm\n",
    "import importlib"
   ]
  },
  {
   "cell_type": "code",
   "execution_count": 12,
   "metadata": {},
   "outputs": [
    {
     "name": "stderr",
     "output_type": "stream",
     "text": [
      "2024-05-21 15:11:49,799 : python.data_manager : INFO : 25 : Test_message\n"
     ]
    },
    {
     "data": {
      "text/plain": [
       "<module 'python.data_manager' from 'c:\\\\Users\\\\zigza\\\\OneDrive\\\\ドキュメント\\\\0_大学院\\\\Projects\\\\Test_LIME_SHAP\\\\src\\\\python\\\\data_manager.py'>"
      ]
     },
     "execution_count": 12,
     "metadata": {},
     "output_type": "execute_result"
    }
   ],
   "source": [
    "importlib.reload(dm)"
   ]
  },
  {
   "cell_type": "code",
   "execution_count": 13,
   "metadata": {},
   "outputs": [
    {
     "name": "stderr",
     "output_type": "stream",
     "text": [
      "2024-05-21 15:11:49,816 : python.data_manager : INFO : 47 : read ..\\data\\Reflection *.csv data...\n",
      "2024-05-21 15:11:49,819 : python.data_manager : INFO : 50 : read : [WindowsPath('../data/Reflection/1.csv'), WindowsPath('../data/Reflection/test.csv')]\n",
      "2024-05-21 15:11:49,824 : python.data_manager : INFO : 57 : get 4 rows.\n",
      "2024-05-21 15:11:49,827 : python.data_manager : INFO : 47 : read ..\\data\\Grade *.csv data...\n",
      "2024-05-21 15:11:49,827 : python.data_manager : INFO : 50 : read : [WindowsPath('../data/Grade/gradetesst.csv')]\n",
      "2024-05-21 15:11:49,831 : python.data_manager : INFO : 57 : get 3 rows.\n"
     ]
    }
   ],
   "source": [
    "left_df = dm.read_folder(\"../data/Reflection/\")\n",
    "right_df = dm.read_folder(\"../data/Grade/\")"
   ]
  },
  {
   "cell_type": "code",
   "execution_count": 14,
   "metadata": {},
   "outputs": [
    {
     "data": {
      "text/html": [
       "<div>\n",
       "<style scoped>\n",
       "    .dataframe tbody tr th:only-of-type {\n",
       "        vertical-align: middle;\n",
       "    }\n",
       "\n",
       "    .dataframe tbody tr th {\n",
       "        vertical-align: top;\n",
       "    }\n",
       "\n",
       "    .dataframe thead th {\n",
       "        text-align: right;\n",
       "    }\n",
       "</style>\n",
       "<table border=\"1\" class=\"dataframe\">\n",
       "  <thead>\n",
       "    <tr style=\"text-align: right;\">\n",
       "      <th></th>\n",
       "      <th>userid</th>\n",
       "      <th>data</th>\n",
       "    </tr>\n",
       "  </thead>\n",
       "  <tbody>\n",
       "    <tr>\n",
       "      <th>0</th>\n",
       "      <td>user1</td>\n",
       "      <td>aaaaaaaaaaaaaaaaa</td>\n",
       "    </tr>\n",
       "    <tr>\n",
       "      <th>1</th>\n",
       "      <td>user2</td>\n",
       "      <td>ddddddddddddddddddd</td>\n",
       "    </tr>\n",
       "    <tr>\n",
       "      <th>2</th>\n",
       "      <td>user 22</td>\n",
       "      <td>bbbbbbbbbbbbbbbbbbb</td>\n",
       "    </tr>\n",
       "    <tr>\n",
       "      <th>3</th>\n",
       "      <td>user1</td>\n",
       "      <td>aaaaaaaaaaaaaaaaaaa</td>\n",
       "    </tr>\n",
       "  </tbody>\n",
       "</table>\n",
       "</div>"
      ],
      "text/plain": [
       "    userid                   data\n",
       "0    user1      aaaaaaaaaaaaaaaaa\n",
       "1    user2    ddddddddddddddddddd\n",
       "2  user 22    bbbbbbbbbbbbbbbbbbb\n",
       "3    user1    aaaaaaaaaaaaaaaaaaa"
      ]
     },
     "execution_count": 14,
     "metadata": {},
     "output_type": "execute_result"
    }
   ],
   "source": [
    "left_df.head()"
   ]
  },
  {
   "cell_type": "code",
   "execution_count": 15,
   "metadata": {},
   "outputs": [],
   "source": [
    "key = \"userid\"\n",
    "df = pd.merge(left=left_df, right=right_df, on=key)"
   ]
  },
  {
   "cell_type": "code",
   "execution_count": 16,
   "metadata": {},
   "outputs": [
    {
     "data": {
      "text/html": [
       "<div>\n",
       "<style scoped>\n",
       "    .dataframe tbody tr th:only-of-type {\n",
       "        vertical-align: middle;\n",
       "    }\n",
       "\n",
       "    .dataframe tbody tr th {\n",
       "        vertical-align: top;\n",
       "    }\n",
       "\n",
       "    .dataframe thead th {\n",
       "        text-align: right;\n",
       "    }\n",
       "</style>\n",
       "<table border=\"1\" class=\"dataframe\">\n",
       "  <thead>\n",
       "    <tr style=\"text-align: right;\">\n",
       "      <th></th>\n",
       "      <th>userid</th>\n",
       "      <th>data</th>\n",
       "      <th>grade</th>\n",
       "    </tr>\n",
       "  </thead>\n",
       "  <tbody>\n",
       "    <tr>\n",
       "      <th>0</th>\n",
       "      <td>user1</td>\n",
       "      <td>aaaaaaaaaaaaaaaaa</td>\n",
       "      <td>A</td>\n",
       "    </tr>\n",
       "    <tr>\n",
       "      <th>1</th>\n",
       "      <td>user1</td>\n",
       "      <td>aaaaaaaaaaaaaaaaaaa</td>\n",
       "      <td>A</td>\n",
       "    </tr>\n",
       "    <tr>\n",
       "      <th>2</th>\n",
       "      <td>user2</td>\n",
       "      <td>ddddddddddddddddddd</td>\n",
       "      <td>F</td>\n",
       "    </tr>\n",
       "    <tr>\n",
       "      <th>3</th>\n",
       "      <td>user 22</td>\n",
       "      <td>bbbbbbbbbbbbbbbbbbb</td>\n",
       "      <td>C</td>\n",
       "    </tr>\n",
       "  </tbody>\n",
       "</table>\n",
       "</div>"
      ],
      "text/plain": [
       "    userid                   data  grade\n",
       "0    user1      aaaaaaaaaaaaaaaaa      A\n",
       "1    user1    aaaaaaaaaaaaaaaaaaa      A\n",
       "2    user2    ddddddddddddddddddd      F\n",
       "3  user 22    bbbbbbbbbbbbbbbbbbb      C"
      ]
     },
     "execution_count": 16,
     "metadata": {},
     "output_type": "execute_result"
    }
   ],
   "source": [
    "df.head()"
   ]
  },
  {
   "cell_type": "code",
   "execution_count": null,
   "metadata": {},
   "outputs": [],
   "source": [
    "train, vaild, test = dm.sprit_data_for_user(df, key=key, label=\"grade\")"
   ]
  }
 ],
 "metadata": {
  "kernelspec": {
   "display_name": "Python 3",
   "language": "python",
   "name": "python3"
  },
  "language_info": {
   "codemirror_mode": {
    "name": "ipython",
    "version": 3
   },
   "file_extension": ".py",
   "mimetype": "text/x-python",
   "name": "python",
   "nbconvert_exporter": "python",
   "pygments_lexer": "ipython3",
   "version": "3.11.9"
  }
 },
 "nbformat": 4,
 "nbformat_minor": 2
}
